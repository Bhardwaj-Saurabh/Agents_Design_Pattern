{
  "nbformat": 4,
  "nbformat_minor": 0,
  "metadata": {
    "colab": {
      "provenance": [],
      "authorship_tag": "ABX9TyMmx28D2nt9kDthGqK604WR",
      "include_colab_link": true
    },
    "kernelspec": {
      "name": "python3",
      "display_name": "Python 3"
    },
    "language_info": {
      "name": "python"
    }
  },
  "cells": [
    {
      "cell_type": "markdown",
      "metadata": {
        "id": "view-in-github",
        "colab_type": "text"
      },
      "source": [
        "<a href=\"https://colab.research.google.com/github/Bhardwaj-Saurabh/Agents_Design_Pattern/blob/master/Tool_Calling_Agent.ipynb\" target=\"_parent\"><img src=\"https://colab.research.google.com/assets/colab-badge.svg\" alt=\"Open In Colab\"/></a>"
      ]
    },
    {
      "cell_type": "code",
      "source": [
        "# !pip install -U langchain-google-genai langchain-openai"
      ],
      "metadata": {
        "id": "iWmE0is_ahPt",
        "collapsed": true
      },
      "execution_count": 302,
      "outputs": []
    },
    {
      "cell_type": "code",
      "execution_count": 303,
      "metadata": {
        "id": "F7Ne4tmw_aJm"
      },
      "outputs": [],
      "source": [
        "import json\n",
        "\n",
        "def calculator(a: float | int,\n",
        "               b: float | int,\n",
        "               operation: str):\n",
        "    \"\"\"\n",
        "    Calculator to perform mathamatical operation between two numbers.\n",
        "\n",
        "    a: float | int - first number\n",
        "    b: float | int - second number\n",
        "    operation: str - mathamatical operation needed\n",
        "\n",
        "    return: result in json format\n",
        "    \"\"\"\n",
        "    if operation == 'add':\n",
        "        return json.dumps({\"output\": a + b})\n",
        "    elif operation == 'multiply':\n",
        "        return json.dumps({\"output\": a * b})\n",
        "    elif operation == 'subtract':\n",
        "        return json.dumps({\"output\": a - b})\n",
        "    elif operation == 'division':\n",
        "        return json.dumps({\"output\": a / b})\n",
        "    else:\n",
        "        return json.dumps({\"output\": None})"
      ]
    },
    {
      "cell_type": "code",
      "source": [
        "calculator"
      ],
      "metadata": {
        "colab": {
          "base_uri": "https://localhost:8080/",
          "height": 187
        },
        "id": "RFxOFuliA0tg",
        "outputId": "b4789d19-8582-473a-c669-18f84e392025"
      },
      "execution_count": 304,
      "outputs": [
        {
          "output_type": "execute_result",
          "data": {
            "text/plain": [
              "<function __main__.calculator(a: float | int, b: float | int, operation: str)>"
            ],
            "text/html": [
              "<div style=\"max-width:800px; border: 1px solid var(--colab-border-color);\"><style>\n",
              "      pre.function-repr-contents {\n",
              "        overflow-x: auto;\n",
              "        padding: 8px 12px;\n",
              "        max-height: 500px;\n",
              "      }\n",
              "\n",
              "      pre.function-repr-contents.function-repr-contents-collapsed {\n",
              "        cursor: pointer;\n",
              "        max-height: 100px;\n",
              "      }\n",
              "    </style>\n",
              "    <pre style=\"white-space: initial; background:\n",
              "         var(--colab-secondary-surface-color); padding: 8px 12px;\n",
              "         border-bottom: 1px solid var(--colab-border-color);\"><b>calculator</b><br/>def calculator(a: float | int, b: float | int, operation: str)</pre><pre class=\"function-repr-contents function-repr-contents-collapsed\" style=\"\"><a class=\"filepath\" style=\"display:none\" href=\"#\">/content/&lt;ipython-input-303-6d55f2dc82fd&gt;</a>Calculator to perform mathamatical operation between two numbers.\n",
              "\n",
              "a: float | int - first number\n",
              "b: float | int - second number\n",
              "operation: str - mathamatical operation needed\n",
              "\n",
              "return: result in json format</pre></div>"
            ]
          },
          "metadata": {},
          "execution_count": 304
        }
      ]
    },
    {
      "cell_type": "code",
      "source": [
        "calculator(2, 6, \"multiply\")"
      ],
      "metadata": {
        "colab": {
          "base_uri": "https://localhost:8080/",
          "height": 35
        },
        "id": "85x1SnE9OyTP",
        "outputId": "312d432e-e095-491c-efbc-00586067d38c"
      },
      "execution_count": 305,
      "outputs": [
        {
          "output_type": "execute_result",
          "data": {
            "text/plain": [
              "'{\"output\": 12}'"
            ],
            "application/vnd.google.colaboratory.intrinsic+json": {
              "type": "string"
            }
          },
          "metadata": {},
          "execution_count": 305
        }
      ]
    },
    {
      "cell_type": "code",
      "execution_count": 306,
      "metadata": {
        "id": "ScpvbT2tyjaU"
      },
      "outputs": [],
      "source": [
        "import os\n",
        "from google.colab import userdata\n",
        "GOOGLE_API_KEY = userdata.get('GOOGLE_API_KEY')\n",
        "OPENAI_API_KEY = userdata.get('OPENAI_API_KEY')"
      ]
    },
    {
      "cell_type": "code",
      "source": [
        "os.environ['GOOGLE_API_KEY'] = GOOGLE_API_KEY\n",
        "os.environ['OPENAI_API_KEY'] = OPENAI_API_KEY"
      ],
      "metadata": {
        "id": "X-tg1i8kzGKw"
      },
      "execution_count": 307,
      "outputs": []
    },
    {
      "cell_type": "code",
      "source": [
        "from langchain_google_genai import ChatGoogleGenerativeAI"
      ],
      "metadata": {
        "id": "ICiCgNKwzGIz"
      },
      "execution_count": 308,
      "outputs": []
    },
    {
      "cell_type": "code",
      "source": [
        "llm = ChatGoogleGenerativeAI(\n",
        "    model=\"gemini-2.0-flash\",\n",
        "    temperature=0.3,\n",
        ")"
      ],
      "metadata": {
        "id": "mda_JGPvh-ig"
      },
      "execution_count": 309,
      "outputs": []
    },
    {
      "cell_type": "code",
      "source": [
        "# Define the System Prompt as a constant\n",
        "TOOL_SYSTEM_PROMPT = \"\"\"\n",
        "You are a function calling AI model. You are provided with function signatures within <tools></tools> XML tags.\n",
        "You may call one or more functions to assist with the user query. Don't make assumptions about what values to plug\n",
        "into functions. Pay special attention to the properties 'types'. You should use those types as in a Python dict.\n",
        "For each function call return a json object with function name and arguments within <tool_call></tool_call> XML tags as follows:\n",
        "\n",
        "<tool_call>\n",
        "{\"name\": <function-name>,\"arguments\": <args-dict>}\n",
        "</tool_call>\n",
        "\n",
        "Here are the available tools:\n",
        "\n",
        "<tools>\n",
        "CALCULATOR:\n",
        "\"name\": \"calculator\",\"description\": \"Calculator to perform mathamatical operation between two numbers. a: float | int - first number b: float | int - second number operation: str - mathamatical operation needed (must be one of the followings: add, multiply, subtract, division), return: result\",\n",
        "\n",
        "</tools>\n",
        "\"\"\""
      ],
      "metadata": {
        "id": "juExQHOCVhom"
      },
      "execution_count": 310,
      "outputs": []
    },
    {
      "cell_type": "code",
      "source": [
        "system_message = (\n",
        "        \"system\",\n",
        "        TOOL_SYSTEM_PROMPT\n",
        "    )\n",
        "\n",
        "user_message = (\n",
        "        \"human\",\n",
        "        \"give me multiplication result 3 and 8.9\"\n",
        "    )\n",
        "\n",
        "history = [system_message, user_message]"
      ],
      "metadata": {
        "id": "u8y9srgCa5hm"
      },
      "execution_count": 311,
      "outputs": []
    },
    {
      "cell_type": "code",
      "source": [
        "output = llm.invoke(history)"
      ],
      "metadata": {
        "id": "UhdmMUzqcAmV"
      },
      "execution_count": 312,
      "outputs": []
    },
    {
      "cell_type": "code",
      "source": [
        "print(output.content)"
      ],
      "metadata": {
        "colab": {
          "base_uri": "https://localhost:8080/"
        },
        "id": "qBfYMjc7cJhi",
        "outputId": "c743813f-424b-4c90-f1cd-e63a77e48e5c"
      },
      "execution_count": 313,
      "outputs": [
        {
          "output_type": "stream",
          "name": "stdout",
          "text": [
            "```xml\n",
            "<tool_call>\n",
            "{\"name\": \"calculator\",\"arguments\": {\"a\": 3, \"b\": 8.9, \"operation\": \"multiply\"}}\n",
            "</tool_call>\n",
            "```\n"
          ]
        }
      ]
    },
    {
      "cell_type": "code",
      "source": [
        "import re\n",
        "import json\n",
        "\n",
        "def parse_tool_call_str(tool_call_str: str):\n",
        "    pattern = r'</?tool_call>'\n",
        "    clean_tags = re.sub(pattern, '', tool_call_str)\n",
        "\n",
        "    if 'xml' in clean_tags:\n",
        "        clean_tags = clean_tags.split('\\n\\n')[1]\n",
        "\n",
        "    try:\n",
        "        tool_call_json = json.loads(clean_tags)\n",
        "        return tool_call_json\n",
        "    except json.JSONDecodeError:\n",
        "        return clean_tags\n",
        "    except Exception as e:\n",
        "        return None"
      ],
      "metadata": {
        "id": "SpXhjiPUcLQD"
      },
      "execution_count": 314,
      "outputs": []
    },
    {
      "cell_type": "code",
      "source": [
        "parsed_output = parse_tool_call_str(output.content)\n",
        "parsed_output"
      ],
      "metadata": {
        "colab": {
          "base_uri": "https://localhost:8080/"
        },
        "id": "0VfrFIcDfGu4",
        "outputId": "4f17d8a6-6b20-4352-aac9-08862f4e4ea1"
      },
      "execution_count": 315,
      "outputs": [
        {
          "output_type": "execute_result",
          "data": {
            "text/plain": [
              "{'name': 'calculator',\n",
              " 'arguments': {'a': 3, 'b': 8.9, 'operation': 'multiply'}}"
            ]
          },
          "metadata": {},
          "execution_count": 315
        }
      ]
    },
    {
      "cell_type": "code",
      "source": [
        "result = calculator(**parsed_output[\"arguments\"])"
      ],
      "metadata": {
        "id": "_RuBaQbzfQgs"
      },
      "execution_count": 316,
      "outputs": []
    },
    {
      "cell_type": "code",
      "source": [
        "result"
      ],
      "metadata": {
        "colab": {
          "base_uri": "https://localhost:8080/",
          "height": 35
        },
        "id": "VW_adZ2gg-HO",
        "outputId": "1c556595-365b-459d-a7f4-bb9d32e46daf"
      },
      "execution_count": 317,
      "outputs": [
        {
          "output_type": "execute_result",
          "data": {
            "text/plain": [
              "'{\"output\": 26.700000000000003}'"
            ],
            "application/vnd.google.colaboratory.intrinsic+json": {
              "type": "string"
            }
          },
          "metadata": {},
          "execution_count": 317
        }
      ]
    },
    {
      "cell_type": "code",
      "source": [
        "history.append(\n",
        "    (\"assistant\",\n",
        "    f\"Answer of the query: {result}\"))"
      ],
      "metadata": {
        "id": "ztYbC2rqi9GE"
      },
      "execution_count": 318,
      "outputs": []
    },
    {
      "cell_type": "code",
      "source": [
        "history"
      ],
      "metadata": {
        "id": "ITksioy6mF42",
        "outputId": "f4ce3d48-984a-450f-aa0f-a36986af17d3",
        "colab": {
          "base_uri": "https://localhost:8080/"
        }
      },
      "execution_count": 319,
      "outputs": [
        {
          "output_type": "execute_result",
          "data": {
            "text/plain": [
              "[('system',\n",
              "  '\\nYou are a function calling AI model. You are provided with function signatures within <tools></tools> XML tags.\\nYou may call one or more functions to assist with the user query. Don\\'t make assumptions about what values to plug\\ninto functions. Pay special attention to the properties \\'types\\'. You should use those types as in a Python dict.\\nFor each function call return a json object with function name and arguments within <tool_call></tool_call> XML tags as follows:\\n\\n<tool_call>\\n{\"name\": <function-name>,\"arguments\": <args-dict>}\\n</tool_call>\\n\\nHere are the available tools:\\n\\n<tools> \\nCALCULATOR:\\n\"name\": \"calculator\",\"description\": \"Calculator to perform mathamatical operation between two numbers. a: float | int - first number b: float | int - second number operation: str - mathamatical operation needed (must be one of the followings: add, multiply, subtract, division), return: result\",\\n\\n</tools>\\n'),\n",
              " ('human', 'give me multiplication result 3 and 8.9'),\n",
              " ('assistant', 'Answer of the query: {\"output\": 26.700000000000003}')]"
            ]
          },
          "metadata": {},
          "execution_count": 319
        }
      ]
    },
    {
      "cell_type": "code",
      "source": [
        "history.append(\n",
        "    (\"human\",\n",
        "    \"Once you have answer to the query in the histroy. Provide the final answer with query in a mardown format \"))"
      ],
      "metadata": {
        "id": "WOFPHS7BVu8m"
      },
      "execution_count": 320,
      "outputs": []
    },
    {
      "cell_type": "code",
      "source": [
        "response = llm.invoke(history)"
      ],
      "metadata": {
        "id": "Fq05YMPHjzvV"
      },
      "execution_count": 321,
      "outputs": []
    },
    {
      "cell_type": "code",
      "source": [
        "from IPython.display import Markdown\n",
        "\n",
        "Markdown(response.content)"
      ],
      "metadata": {
        "colab": {
          "base_uri": "https://localhost:8080/",
          "height": 69
        },
        "id": "ryEWaPIEj94J",
        "outputId": "7bde882e-f7c7-47c9-f471-9a6dc128ccd0"
      },
      "execution_count": 322,
      "outputs": [
        {
          "output_type": "execute_result",
          "data": {
            "text/plain": [
              "<IPython.core.display.Markdown object>"
            ],
            "text/markdown": "```markdown\n**Query:** give me multiplication result 3 and 8.9\n\n**Answer:** 26.700000000000003\n```"
          },
          "metadata": {},
          "execution_count": 322
        }
      ]
    },
    {
      "cell_type": "code",
      "source": [],
      "metadata": {
        "id": "DIv9oZGdj_Np"
      },
      "execution_count": 322,
      "outputs": []
    }
  ]
}