{
  "nbformat": 4,
  "nbformat_minor": 0,
  "metadata": {
    "colab": {
      "provenance": [],
      "authorship_tag": "ABX9TyPSgUhyKjTFeH/ZduafZU15",
      "include_colab_link": true
    },
    "kernelspec": {
      "name": "python3",
      "display_name": "Python 3"
    },
    "language_info": {
      "name": "python"
    }
  },
  "cells": [
    {
      "cell_type": "markdown",
      "metadata": {
        "id": "view-in-github",
        "colab_type": "text"
      },
      "source": [
        "<a href=\"https://colab.research.google.com/github/Bhardwaj-Saurabh/Agents_Design_Pattern/blob/master/reflection_pattern_agent.ipynb\" target=\"_parent\"><img src=\"https://colab.research.google.com/assets/colab-badge.svg\" alt=\"Open In Colab\"/></a>"
      ]
    },
    {
      "cell_type": "code",
      "source": [
        "# !pip install -U langchain-google-genai\n",
        "# !pip install colorama"
      ],
      "metadata": {
        "collapsed": true,
        "id": "rjSjFwTs0BQ-"
      },
      "execution_count": 1,
      "outputs": []
    },
    {
      "cell_type": "code",
      "execution_count": 2,
      "metadata": {
        "id": "ScpvbT2tyjaU"
      },
      "outputs": [],
      "source": [
        "import os\n",
        "from google.colab import userdata\n",
        "GOOGLE_API_KEY = userdata.get('GOOGLE_API_KEY')"
      ]
    },
    {
      "cell_type": "code",
      "source": [
        "os.environ['GOOGLE_API_KEY'] = GOOGLE_API_KEY"
      ],
      "metadata": {
        "id": "X-tg1i8kzGKw"
      },
      "execution_count": 3,
      "outputs": []
    },
    {
      "cell_type": "code",
      "source": [
        "from langchain_google_genai import ChatGoogleGenerativeAI\n",
        "from colorama import init, Fore, Style\n",
        "\n",
        "init(autoreset=True)"
      ],
      "metadata": {
        "id": "ICiCgNKwzGIz"
      },
      "execution_count": 5,
      "outputs": []
    },
    {
      "cell_type": "code",
      "source": [
        "llm = ChatGoogleGenerativeAI(\n",
        "    model=\"gemini-2.0-flash\",\n",
        "    temperature=0.3,\n",
        ")"
      ],
      "metadata": {
        "id": "mda_JGPvh-ig"
      },
      "execution_count": 6,
      "outputs": []
    },
    {
      "cell_type": "code",
      "source": [
        "messages = [\n",
        "    (\n",
        "        \"system\",\n",
        "        \"\"\"You are an expert python programmer.\n",
        "            You are tasked to create best possible python program based on the user request.\n",
        "            Your output must only be the python code and nothing else.\"\"\",\n",
        "    ),\n",
        "]\n"
      ],
      "metadata": {
        "id": "ZtCOS5JkzGGu"
      },
      "execution_count": 7,
      "outputs": []
    },
    {
      "cell_type": "code",
      "source": [
        "messages.append(\n",
        "    (\"human\",\n",
        "     \"Create the hangman game for user with medium difficulty level.\")\n",
        ")"
      ],
      "metadata": {
        "id": "qQBYU7LOzGEY"
      },
      "execution_count": 8,
      "outputs": []
    },
    {
      "cell_type": "code",
      "source": [
        "response = llm.invoke(messages)"
      ],
      "metadata": {
        "id": "-m3esi8pzGCJ"
      },
      "execution_count": 9,
      "outputs": []
    },
    {
      "cell_type": "code",
      "source": [
        "generated_code = response.content"
      ],
      "metadata": {
        "id": "wWIpsTfM1ZFr"
      },
      "execution_count": 10,
      "outputs": []
    },
    {
      "cell_type": "code",
      "source": [
        "from IPython.display import Markdown\n",
        "Markdown(response.content)"
      ],
      "metadata": {
        "colab": {
          "base_uri": "https://localhost:8080/",
          "height": 1000
        },
        "id": "Ms1Bt6trzGAD",
        "outputId": "3d970a76-69cf-401d-b040-279cd175a1b3"
      },
      "execution_count": 11,
      "outputs": [
        {
          "output_type": "execute_result",
          "data": {
            "text/plain": [
              "<IPython.core.display.Markdown object>"
            ],
            "text/markdown": "```python\nimport random\n\ndef choose_word():\n    \"\"\"Chooses a random word from a predefined list.\"\"\"\n    words = [\"python\", \"programming\", \"computer\", \"science\", \"algorithm\", \"function\", \"variable\", \"database\", \"developer\", \"keyboard\"]\n    return random.choice(words)\n\ndef display_word(word, guessed_letters):\n    \"\"\"Displays the word with correctly guessed letters and underscores for unguessed letters.\"\"\"\n    displayed_word = \"\"\n    for letter in word:\n        if letter in guessed_letters:\n            displayed_word += letter\n        else:\n            displayed_word += \"_\"\n    return displayed_word\n\ndef hangman():\n    \"\"\"Runs the hangman game.\"\"\"\n    word_to_guess = choose_word()\n    guessed_letters = set()\n    attempts_left = 6  # You can adjust the number of attempts for difficulty\n    \n    print(\"Welcome to Hangman!\")\n    print(display_word(word_to_guess, guessed_letters))\n    print(f\"You have {attempts_left} attempts left.\")\n\n    while attempts_left > 0:\n        guess = input(\"Guess a letter: \").lower()\n\n        if not guess.isalpha() or len(guess) != 1:\n            print(\"Invalid input. Please enter a single letter.\")\n            continue\n\n        if guess in guessed_letters:\n            print(\"You already guessed that letter.\")\n            continue\n\n        guessed_letters.add(guess)\n\n        if guess in word_to_guess:\n            print(\"Correct guess!\")\n            displayed = display_word(word_to_guess, guessed_letters)\n            print(displayed)\n            if \"_\" not in displayed:\n                print(\"Congratulations! You guessed the word:\", word_to_guess)\n                return\n        else:\n            attempts_left -= 1\n            print(\"Incorrect guess.\")\n            print(f\"You have {attempts_left} attempts left.\")\n            print(display_word(word_to_guess, guessed_letters))\n\n        if attempts_left == 0:\n            print(\"You ran out of attempts.\")\n            print(\"The word was:\", word_to_guess)\n\nif __name__ == \"__main__\":\n    hangman()\n```"
          },
          "metadata": {},
          "execution_count": 11
        }
      ]
    },
    {
      "cell_type": "code",
      "source": [
        "critique_messages = [\n",
        "    (\n",
        "        \"system\",\n",
        "        \"\"\"You are an expert python programmer.\n",
        "            You are tasked to critique the given python code.\n",
        "            Provide your critiques in bullet points.\n",
        "            Provide recommendation to improve the quality of the code.\n",
        "            Do not provide the code. Only critique and recommendations.\"\"\",\n",
        "    ),\n",
        "    (\"human\", generated_code)\n",
        "]"
      ],
      "metadata": {
        "id": "SxoTE69mzF9m"
      },
      "execution_count": 12,
      "outputs": []
    },
    {
      "cell_type": "code",
      "source": [
        "critique = llm.invoke(critique_messages)"
      ],
      "metadata": {
        "id": "RC4k9IhqzF7i"
      },
      "execution_count": 13,
      "outputs": []
    },
    {
      "cell_type": "code",
      "source": [
        "critique_output = critique.content"
      ],
      "metadata": {
        "id": "4f8ZY_2e31tP"
      },
      "execution_count": 14,
      "outputs": []
    },
    {
      "cell_type": "code",
      "source": [
        "Markdown(critique.content)"
      ],
      "metadata": {
        "colab": {
          "base_uri": "https://localhost:8080/",
          "height": 897
        },
        "id": "Pjuq8ucKzF5L",
        "outputId": "a54c1adf-ee33-47b3-f55f-318ef3b8b97e"
      },
      "execution_count": 15,
      "outputs": [
        {
          "output_type": "execute_result",
          "data": {
            "text/plain": [
              "<IPython.core.display.Markdown object>"
            ],
            "text/markdown": "Here's a critique of the provided Python code, along with recommendations for improvement:\n\n**Critiques:**\n\n*   **Limited Word List:** The `choose_word` function has a hardcoded list of words. This limits the replayability of the game.\n*   **Lack of Visual Hangman:** The game lacks a visual representation of the hangman figure, which is a common and engaging element of the game.\n*   **No Input Validation for Non-Letter Guesses:** While the code checks for single-character input, it doesn't explicitly prevent the user from entering numbers or special characters (although `.isalpha()` handles this). A more explicit check might improve clarity.\n*   **Repetitive Output:** The `display_word` function is called multiple times within the loop, leading to some repetition in the output.\n*   **Game Logic in `hangman` Function:** The `hangman` function is quite long and contains a mix of game logic, input/output, and display elements. This makes it harder to read and maintain.\n*   **No Option to Play Again:** The game ends after one round, without offering the player the option to play again.\n*   **Missing Docstrings:** While some functions have docstrings, the `hangman` function itself could benefit from a more detailed docstring explaining its overall purpose and behavior.\n\n**Recommendations:**\n\n*   **Expand Word List:**\n    *   Load words from a file (e.g., a text file containing a list of words, one word per line). This makes it easy to add more words without modifying the code.\n*   **Implement Visual Hangman:**\n    *   Create a list of strings representing the different stages of the hangman figure. Display the appropriate stage based on the number of attempts remaining.  Consider using ASCII art for a simple visual.\n*   **Improve Input Validation:**\n    *   While `.isalpha()` works, consider adding a more explicit check and a more informative error message if the input is not a letter.\n*   **Reduce Repetitive Output:**\n    *   Store the displayed word in a variable and only update the display when it changes.\n*   **Refactor `hangman` Function:**\n    *   Break down the `hangman` function into smaller, more manageable functions. For example:\n        *   A function to get the player's guess.\n        *   A function to update the game state based on the guess.\n        *   A function to check if the game is won or lost.\n*   **Add \"Play Again\" Option:**\n    *   After the game ends (win or lose), ask the player if they want to play again. Wrap the game logic in a `while` loop to allow multiple games.\n*   **Add More Detailed Docstrings:**\n    *   Provide comprehensive docstrings for all functions, including the `hangman` function, explaining their purpose, parameters, and return values.\n*   **Consider Using Constants:**\n    *   Define the number of attempts as a constant at the beginning of the script (e.g., `MAX_ATTEMPTS = 6`). This makes it easier to change and improves readability.\n*   **Handle Edge Cases:**\n    *   Consider what happens if the word list is empty. Add a check to handle this case gracefully.\n*   **Improve User Experience:**\n    *   Clear the screen after each guess (using `os.system('cls')` on Windows or `os.system('clear')` on Linux/macOS) to make the game more visually appealing.  Be mindful of cross-platform compatibility.\n*   **Consider Exception Handling:**\n    *   If you load words from a file, use `try...except` blocks to handle potential `IOError` exceptions if the file cannot be opened or read."
          },
          "metadata": {},
          "execution_count": 15
        }
      ]
    },
    {
      "cell_type": "code",
      "source": [
        "final_messages = [\n",
        "    (\n",
        "        \"system\",\n",
        "        \"\"\"You are an expert python programmer.\n",
        "            You are tasked is to improve the given code based on provided recommendations and critique by senior expert.\n",
        "            Your output must only the the improved code.\n",
        "            Do not inlcude anything else in theoutput.\"\"\",\n",
        "    ),\n",
        "    (\"human\", generated_code + '\\n\\n' +critique_output )\n",
        "]"
      ],
      "metadata": {
        "id": "IYiymUZ9zF2m"
      },
      "execution_count": 16,
      "outputs": []
    },
    {
      "cell_type": "code",
      "source": [
        "final_code = llm.invoke(final_messages)"
      ],
      "metadata": {
        "id": "HgfI2Q-y3-6R"
      },
      "execution_count": 17,
      "outputs": []
    },
    {
      "cell_type": "code",
      "source": [
        "final_code_output = final_code.content"
      ],
      "metadata": {
        "id": "TAJX-8m03-3w"
      },
      "execution_count": 18,
      "outputs": []
    },
    {
      "cell_type": "code",
      "source": [
        "Markdown(final_code_output)"
      ],
      "metadata": {
        "colab": {
          "base_uri": "https://localhost:8080/",
          "height": 1000
        },
        "id": "U0MN281i3-1c",
        "outputId": "3b35f15f-3fab-47e5-b977-3bc23783e998"
      },
      "execution_count": 19,
      "outputs": [
        {
          "output_type": "execute_result",
          "data": {
            "text/plain": [
              "<IPython.core.display.Markdown object>"
            ],
            "text/markdown": "```python\nimport random\nimport os\n\nMAX_ATTEMPTS = 6  # Define the maximum number of attempts\nHANGMAN_STAGES = [  # Visual representation of the hangman\n    \"\"\"\n      +---+\n      |   |\n          |\n          |\n          |\n          |\n    =========\"\"\",\n    \"\"\"\n      +---+\n      |   |\n      O   |\n          |\n          |\n          |\n    =========\"\"\",\n    \"\"\"\n      +---+\n      |   |\n      O   |\n      |   |\n          |\n          |\n    =========\"\"\",\n    \"\"\"\n      +---+\n      |   |\n      O   |\n     /|   |\n          |\n          |\n    =========\"\"\",\n    \"\"\"\n      +---+\n      |   |\n      O   |\n     /|\\  |\n          |\n          |\n    =========\"\"\",\n    \"\"\"\n      +---+\n      |   |\n      O   |\n     /|\\  |\n     /    |\n          |\n    =========\"\"\",\n    \"\"\"\n      +---+\n      |   |\n      O   |\n     /|\\  |\n     / \\  |\n          |\n    =========\"\"\"]\n\n\ndef choose_word(filepath=\"words.txt\"):\n    \"\"\"Chooses a random word from a file.\n\n    Args:\n        filepath (str, optional): The path to the file containing the list of words.\n            Defaults to \"words.txt\".\n\n    Returns:\n        str: A randomly chosen word from the file, or None if the file is empty or cannot be read.\n    \"\"\"\n    try:\n        with open(filepath, \"r\") as f:\n            words = [line.strip() for line in f]\n        if not words:\n            print(\"Word list file is empty.\")\n            return None\n        return random.choice(words)\n    except FileNotFoundError:\n        print(f\"Error: File not found at {filepath}\")\n        return None\n    except IOError:\n        print(f\"Error: Could not read file at {filepath}\")\n        return None\n\n\ndef display_word(word, guessed_letters):\n    \"\"\"Displays the word with correctly guessed letters and underscores for unguessed letters.\n\n    Args:\n        word (str): The word to be displayed.\n        guessed_letters (set): A set of letters that have been guessed correctly.\n\n    Returns:\n        str: The displayed word with correctly guessed letters and underscores.\n    \"\"\"\n    displayed_word = \"\"\n    for letter in word:\n        if letter in guessed_letters:\n            displayed_word += letter\n        else:\n            displayed_word += \"_\"\n    return displayed_word\n\n\ndef get_player_guess():\n    \"\"\"Gets a letter guess from the player with input validation.\n\n    Returns:\n        str: The player's guess (a single lowercase letter), or None if the input is invalid.\n    \"\"\"\n    guess = input(\"Guess a letter: \").lower()\n\n    if not guess.isalpha() or len(guess) != 1:\n        print(\"Invalid input. Please enter a single letter.\")\n        return None\n    return guess\n\n\ndef update_game_state(word, guessed_letters, guess, attempts_left):\n    \"\"\"Updates the game state based on the player's guess.\n\n    Args:\n        word (str): The word to be guessed.\n        guessed_letters (set): The set of already guessed letters.\n        guess (str): The player's current guess.\n        attempts_left (int): The number of attempts remaining.\n\n    Returns:\n        tuple: A tuple containing the updated guessed_letters (set), attempts_left (int),\n               and a boolean indicating whether the guess was correct (bool).\n    \"\"\"\n    if guess in guessed_letters:\n        print(\"You already guessed that letter.\")\n        return guessed_letters, attempts_left, False\n\n    guessed_letters.add(guess)\n\n    if guess not in word:\n        attempts_left -= 1\n        print(\"Incorrect guess.\")\n        return guessed_letters, attempts_left, False\n\n    print(\"Correct guess!\")\n    return guessed_letters, attempts_left, True\n\n\ndef check_game_status(word, guessed_letters, attempts_left):\n    \"\"\"Checks if the game is won or lost.\n\n    Args:\n        word (str): The word to be guessed.\n        guessed_letters (set): The set of letters guessed so far.\n        attempts_left (int): The number of attempts remaining.\n\n    Returns:\n        str: \"win\" if the game is won, \"lose\" if the game is lost, or None if the game is still in progress.\n    \"\"\"\n    displayed = display_word(word, guessed_letters)\n    if \"_\" not in displayed:\n        return \"win\"\n    if attempts_left == 0:\n        return \"lose\"\n    return None\n\n\ndef play_hangman():\n    \"\"\"Plays a single round of Hangman.\"\"\"\n    word_to_guess = choose_word()\n    if word_to_guess is None:\n        return  # Exit if no word could be chosen\n\n    guessed_letters = set()\n    attempts_left = MAX_ATTEMPTS\n    game_over = False\n\n    print(\"Welcome to Hangman!\")\n    displayed_word = display_word(word_to_guess, guessed_letters)\n    print(displayed_word)\n    print(f\"You have {attempts_left} attempts left.\")\n    print(HANGMAN_STAGES[0])  # Initial hangman stage\n\n    while not game_over:\n        guess = get_player_guess()\n        if guess is None:\n            continue  # Invalid input, get another guess\n\n        guessed_letters, attempts_left, correct_guess = update_game_state(\n            word_to_guess, guessed_letters, guess, attempts_left\n        )\n\n        displayed_word = display_word(word_to_guess, guessed_letters)\n        print(displayed_word)\n        print(f\"You have {attempts_left} attempts left.\")\n        print(HANGMAN_STAGES[MAX_ATTEMPTS - attempts_left])  # Update hangman visual\n\n        game_status = check_game_status(word_to_guess, guessed_letters, attempts_left)\n\n        if game_status == \"win\":\n            print(\"Congratulations! You guessed the word:\", word_to_guess)\n            game_over = True\n        elif game_status == \"lose\":\n            print(\"You ran out of attempts.\")\n            print(\"The word was:\", word_to_guess)\n            game_over = True\n\n\ndef hangman():\n    \"\"\"Runs the Hangman game, allowing multiple rounds.\"\"\"\n    play_again = True\n    while play_again:\n        play_hangman()\n        answer = input(\"Play again? (yes/no): \").lower()\n        if answer != \"yes\":\n            play_again = False\n    print(\"Thanks for playing!\")\n\n\nif __name__ == \"__main__\":\n    hangman()\n```"
          },
          "metadata": {},
          "execution_count": 19
        }
      ]
    },
    {
      "cell_type": "markdown",
      "source": [],
      "metadata": {
        "id": "q584TkhQ8I_m"
      }
    },
    {
      "cell_type": "code",
      "source": [
        "def format_prompt_structure(prompt: str, role: str) -> tuple:\n",
        "    return (role, prompt)"
      ],
      "metadata": {
        "id": "jZIsbALWRtXf"
      },
      "execution_count": 20,
      "outputs": []
    },
    {
      "cell_type": "code",
      "source": [
        "class ReflectionAgent:\n",
        "    def __init__(self, model_name=\"gemini-2.0-flash\", temperature=0.1):\n",
        "        self.model = ChatGoogleGenerativeAI(\n",
        "            model=model_name,\n",
        "            temperature=temperature\n",
        "        )\n",
        "\n",
        "    def generate_output(self, messages):\n",
        "        return self.model.invoke(messages)\n",
        "\n",
        "    def run(self, user_message, steps=3, verbose=True):\n",
        "        system_prompt = format_prompt_structure(\n",
        "            \"\"\"You are an expert python programmer.\n",
        "            You are tasked to create best possible python program based on the user request.\n",
        "            If provided with critique and recommendation, please use those to improve the code.\n",
        "            Your output must only be the python code and nothing else.\"\"\", \"system\")\n",
        "\n",
        "        critique_message = \"\"\"You are an expert python programmer.\n",
        "            You are tasked to critique the given python code.\n",
        "            Provide your critiques in bullet points.\n",
        "            Provide recommendation to improve the quality of the code.\n",
        "            Do not provide the code. Only critique and recommendations.\n",
        "\n",
        "            If Finished is True, Just reply with one word --> Finished.\n",
        "            FINISHED: \"\"\"\n",
        "\n",
        "        user_prompt = format_prompt_structure(user_message, \"user\")\n",
        "        messages = [system_prompt, user_prompt]\n",
        "\n",
        "        FINISH = False\n",
        "\n",
        "        for step in range(steps):\n",
        "            if step == steps - 1:\n",
        "                FINISH = True\n",
        "\n",
        "            if verbose:\n",
        "                print(Fore.CYAN + f\"\\n🔁 Iteration {step + 1}/{steps}\")\n",
        "\n",
        "            code_response = self.generate_output(messages)\n",
        "            messages.append(code_response)\n",
        "\n",
        "            if verbose:\n",
        "                print(Fore.YELLOW + \"\\n🧾 Generated Code:\")\n",
        "                print(Fore.GREEN + code_response.content)\n",
        "\n",
        "            critique_prompt = format_prompt_structure(critique_message + \" \" + str(FINISH), \"system\")\n",
        "\n",
        "            messages.append(critique_prompt)\n",
        "            critique_response = self.generate_output(messages)\n",
        "\n",
        "            if verbose:\n",
        "                print(Fore.YELLOW + \"\\n🧐 Critique:\")\n",
        "                print(Fore.MAGENTA + critique_response.content)\n",
        "\n",
        "            if \"finished\" in critique_response.content.lower():\n",
        "                if verbose:\n",
        "                    print(Fore.BLUE + \"\\n✅ Finished early as critique said 'Finished'\")\n",
        "                break\n",
        "\n",
        "            messages.append(critique_response)\n",
        "\n",
        "        if verbose:\n",
        "            print(Fore.CYAN + \"\\n🎯 Final Code or Critique chain completed.\")\n",
        "\n",
        "        return messages\n",
        "\n"
      ],
      "metadata": {
        "id": "ZhEccpRu4XjY"
      },
      "execution_count": 26,
      "outputs": []
    },
    {
      "cell_type": "code",
      "source": [
        "agent = ReflectionAgent()"
      ],
      "metadata": {
        "id": "8zOa3vd_VnHe"
      },
      "execution_count": 27,
      "outputs": []
    },
    {
      "cell_type": "code",
      "source": [
        "response = agent.run(\"write a hangman game\")"
      ],
      "metadata": {
        "colab": {
          "base_uri": "https://localhost:8080/"
        },
        "id": "X1OFZhJ7Vz4U",
        "outputId": "90fbcb31-ff0f-4ec8-fdc4-86812d4524b9"
      },
      "execution_count": 28,
      "outputs": [
        {
          "output_type": "stream",
          "name": "stdout",
          "text": [
            "\n",
            "🔁 Iteration 1/3\n",
            "\n",
            "🧾 Generated Code:\n",
            "```python\n",
            "import random\n",
            "\n",
            "def choose_word():\n",
            "    \"\"\"Chooses a random word from a predefined list.\"\"\"\n",
            "    words = [\"python\", \"hangman\", \"programming\", \"computer\", \"science\", \"keyboard\", \"algorithm\"]\n",
            "    return random.choice(words)\n",
            "\n",
            "def display_word(word, guessed_letters):\n",
            "    \"\"\"Displays the word with correctly guessed letters and underscores for unguessed letters.\"\"\"\n",
            "    displayed_word = \"\"\n",
            "    for letter in word:\n",
            "        if letter in guessed_letters:\n",
            "            displayed_word += letter\n",
            "        else:\n",
            "            displayed_word += \"_\"\n",
            "    return displayed_word\n",
            "\n",
            "def hangman():\n",
            "    \"\"\"Plays a game of hangman.\"\"\"\n",
            "    word_to_guess = choose_word()\n",
            "    guessed_letters = set()\n",
            "    attempts_left = 6\n",
            "\n",
            "    print(\"Welcome to Hangman!\")\n",
            "    print(display_word(word_to_guess, guessed_letters))\n",
            "    print(f\"You have {attempts_left} attempts left.\")\n",
            "\n",
            "    while attempts_left > 0:\n",
            "        guess = input(\"Guess a letter: \").lower()\n",
            "\n",
            "        if not guess.isalpha() or len(guess) != 1:\n",
            "            print(\"Invalid input. Please enter a single letter.\")\n",
            "            continue\n",
            "\n",
            "        if guess in guessed_letters:\n",
            "            print(\"You already guessed that letter.\")\n",
            "            continue\n",
            "\n",
            "        guessed_letters.add(guess)\n",
            "\n",
            "        if guess in word_to_guess:\n",
            "            print(\"Correct guess!\")\n",
            "            displayed_word = display_word(word_to_guess, guessed_letters)\n",
            "            print(displayed_word)\n",
            "\n",
            "            if \"_\" not in displayed_word:\n",
            "                print(\"Congratulations! You guessed the word:\", word_to_guess)\n",
            "                return\n",
            "        else:\n",
            "            attempts_left -= 1\n",
            "            print(\"Incorrect guess.\")\n",
            "            print(display_word(word_to_guess, guessed_letters))\n",
            "            print(f\"You have {attempts_left} attempts left.\")\n",
            "\n",
            "    print(\"You ran out of attempts. The word was:\", word_to_guess)\n",
            "\n",
            "if __name__ == \"__main__\":\n",
            "    hangman()\n",
            "```\n",
            "\n",
            "🧐 Critique:\n",
            "\n",
            "\n",
            "🔁 Iteration 2/3\n",
            "\n",
            "🧾 Generated Code:\n",
            "*   The code is well-structured with functions for different tasks (choosing a word, displaying the word, and running the game).\n",
            "*   Input validation is present to ensure the user enters a single letter.\n",
            "*   The game logic is clear and easy to follow.\n",
            "*   The code provides feedback to the user on their guesses and remaining attempts.\n",
            "*   The game ends appropriately when the user guesses the word or runs out of attempts.\n",
            "\n",
            "Recommendations:\n",
            "\n",
            "*   Consider adding a visual representation of the hangman figure (e.g., using ASCII art) to enhance the user experience.\n",
            "*   You could expand the word list to include more words or allow the user to provide their own word list.\n",
            "*   Add difficulty levels by adjusting the number of allowed attempts or the length of the words.\n",
            "*   Implement a replay option to allow the user to play again without restarting the program.\n",
            "*   Consider using a more descriptive variable name than `displayed_word` (e.g., `current_display`).\n",
            "*   Add docstrings to the `hangman` function to describe its overall purpose.\n",
            "*   Consider using f-strings for more concise string formatting.\n",
            "*   The `if __name__ == \"__main__\":` block is good practice.\n",
            "\n",
            "FINISHED: True\n",
            "\n",
            "🧐 Critique:\n",
            "\n",
            "\n",
            "🔁 Iteration 3/3\n",
            "\n",
            "🧾 Generated Code:\n",
            "```python\n",
            "import random\n",
            "\n",
            "def choose_word():\n",
            "    \"\"\"Chooses a random word from a predefined list.\"\"\"\n",
            "    words = [\"python\", \"hangman\", \"programming\", \"computer\", \"science\", \"keyboard\", \"algorithm\"]\n",
            "    return random.choice(words)\n",
            "\n",
            "def display_word(word, guessed_letters):\n",
            "    \"\"\"Displays the word with correctly guessed letters and underscores for unguessed letters.\"\"\"\n",
            "    current_display = \"\"\n",
            "    for letter in word:\n",
            "        if letter in guessed_letters:\n",
            "            current_display += letter\n",
            "        else:\n",
            "            current_display += \"_\"\n",
            "    return current_display\n",
            "\n",
            "def display_hangman(attempts_left):\n",
            "    \"\"\"Displays the hangman figure based on the number of attempts left.\"\"\"\n",
            "    stages = [\n",
            "        \"\"\"\n",
            "           --------\n",
            "           |      |\n",
            "           |      O\n",
            "           |     \\\\|/\n",
            "           |      |\n",
            "           |     / \\\\\n",
            "           -\n",
            "        \"\"\",\n",
            "        \"\"\"\n",
            "           --------\n",
            "           |      |\n",
            "           |      O\n",
            "           |     \\\\|/\n",
            "           |      |\n",
            "           |     / \n",
            "           -\n",
            "        \"\"\",\n",
            "        \"\"\"\n",
            "           --------\n",
            "           |      |\n",
            "           |      O\n",
            "           |     \\\\|/\n",
            "           |      |\n",
            "           |      \n",
            "           -\n",
            "        \"\"\",\n",
            "        \"\"\"\n",
            "           --------\n",
            "           |      |\n",
            "           |      O\n",
            "           |     \\\\|\n",
            "           |      |\n",
            "           |      \n",
            "           -\n",
            "        \"\"\",\n",
            "        \"\"\"\n",
            "           --------\n",
            "           |      |\n",
            "           |      O\n",
            "           |      |\n",
            "           |      |\n",
            "           |      \n",
            "           -\n",
            "        \"\"\",\n",
            "        \"\"\"\n",
            "           --------\n",
            "           |      |\n",
            "           |      O\n",
            "           |      \n",
            "           |      \n",
            "           |      \n",
            "           -\n",
            "        \"\"\",\n",
            "        \"\"\"\n",
            "           --------\n",
            "           |      |\n",
            "           |      \n",
            "           |      \n",
            "           |      \n",
            "           |      \n",
            "           -\n",
            "        \"\"\",\n",
            "    ]\n",
            "    return stages[6 - attempts_left]\n",
            "\n",
            "\n",
            "def hangman():\n",
            "    \"\"\"Plays a game of hangman.\"\"\"\n",
            "    word_to_guess = choose_word()\n",
            "    guessed_letters = set()\n",
            "    attempts_left = 6\n",
            "    \n",
            "    print(\"Welcome to Hangman!\")\n",
            "    print(display_hangman(attempts_left))\n",
            "    print(display_word(word_to_guess, guessed_letters))\n",
            "    print(f\"You have {attempts_left} attempts left.\")\n",
            "\n",
            "    while attempts_left > 0:\n",
            "        guess = input(\"Guess a letter: \").lower()\n",
            "\n",
            "        if not guess.isalpha() or len(guess) != 1:\n",
            "            print(\"Invalid input. Please enter a single letter.\")\n",
            "            continue\n",
            "\n",
            "        if guess in guessed_letters:\n",
            "            print(\"You already guessed that letter.\")\n",
            "            continue\n",
            "\n",
            "        guessed_letters.add(guess)\n",
            "\n",
            "        if guess in word_to_guess:\n",
            "            print(\"Correct guess!\")\n",
            "            current_display = display_word(word_to_guess, guessed_letters)\n",
            "            print(current_display)\n",
            "\n",
            "            if \"_\" not in current_display:\n",
            "                print(\"Congratulations! You guessed the word:\", word_to_guess)\n",
            "                return\n",
            "        else:\n",
            "            attempts_left -= 1\n",
            "            print(\"Incorrect guess.\")\n",
            "            print(display_hangman(attempts_left))\n",
            "            print(display_word(word_to_guess, guessed_letters))\n",
            "            print(f\"You have {attempts_left} attempts left.\")\n",
            "\n",
            "    print(\"You ran out of attempts. The word was:\", word_to_guess)\n",
            "\n",
            "    play_again = input(\"Do you want to play again? (yes/no): \").lower()\n",
            "    if play_again == \"yes\":\n",
            "        hangman()\n",
            "\n",
            "if __name__ == \"__main__\":\n",
            "    hangman()\n",
            "```\n",
            "\n",
            "🧐 Critique:\n",
            "\n",
            "\n",
            "🎯 Final Code or Critique chain completed.\n"
          ]
        }
      ]
    },
    {
      "cell_type": "code",
      "source": [
        "for i in response:\n",
        "    print(i)"
      ],
      "metadata": {
        "colab": {
          "base_uri": "https://localhost:8080/"
        },
        "id": "fGLTStzOV4JH",
        "outputId": "c4e16bcc-9f97-47d6-b8d2-cee61dcba759"
      },
      "execution_count": 29,
      "outputs": [
        {
          "output_type": "stream",
          "name": "stdout",
          "text": [
            "('system', 'You are an expert python programmer. \\n            You are tasked to create best possible python program based on the user request.\\n            If provided with critique and recommendation, please use those to improve the code.\\n            Your output must only be the python code and nothing else.')\n",
            "('user', 'write a hangman game')\n",
            "content='```python\\nimport random\\n\\ndef choose_word():\\n    \"\"\"Chooses a random word from a predefined list.\"\"\"\\n    words = [\"python\", \"hangman\", \"programming\", \"computer\", \"science\", \"keyboard\", \"algorithm\"]\\n    return random.choice(words)\\n\\ndef display_word(word, guessed_letters):\\n    \"\"\"Displays the word with correctly guessed letters and underscores for unguessed letters.\"\"\"\\n    displayed_word = \"\"\\n    for letter in word:\\n        if letter in guessed_letters:\\n            displayed_word += letter\\n        else:\\n            displayed_word += \"_\"\\n    return displayed_word\\n\\ndef hangman():\\n    \"\"\"Plays a game of hangman.\"\"\"\\n    word_to_guess = choose_word()\\n    guessed_letters = set()\\n    attempts_left = 6\\n\\n    print(\"Welcome to Hangman!\")\\n    print(display_word(word_to_guess, guessed_letters))\\n    print(f\"You have {attempts_left} attempts left.\")\\n\\n    while attempts_left > 0:\\n        guess = input(\"Guess a letter: \").lower()\\n\\n        if not guess.isalpha() or len(guess) != 1:\\n            print(\"Invalid input. Please enter a single letter.\")\\n            continue\\n\\n        if guess in guessed_letters:\\n            print(\"You already guessed that letter.\")\\n            continue\\n\\n        guessed_letters.add(guess)\\n\\n        if guess in word_to_guess:\\n            print(\"Correct guess!\")\\n            displayed_word = display_word(word_to_guess, guessed_letters)\\n            print(displayed_word)\\n\\n            if \"_\" not in displayed_word:\\n                print(\"Congratulations! You guessed the word:\", word_to_guess)\\n                return\\n        else:\\n            attempts_left -= 1\\n            print(\"Incorrect guess.\")\\n            print(display_word(word_to_guess, guessed_letters))\\n            print(f\"You have {attempts_left} attempts left.\")\\n\\n    print(\"You ran out of attempts. The word was:\", word_to_guess)\\n\\nif __name__ == \"__main__\":\\n    hangman()\\n```' additional_kwargs={} response_metadata={'prompt_feedback': {'block_reason': 0, 'safety_ratings': []}, 'finish_reason': 'STOP', 'model_name': 'gemini-2.0-flash', 'safety_ratings': []} id='run--42a765fd-40bc-4679-8b31-81545e577e34-0' usage_metadata={'input_tokens': 61, 'output_tokens': 477, 'total_tokens': 538, 'input_token_details': {'cache_read': 0}}\n",
            "('system', 'You are an expert python programmer. \\n            You are tasked to critique the given python code.\\n            Provide your critiques in bullet points.\\n            Provide recommendation to improve the quality of the code.\\n            Do not provide the code. Only critique and recommendations.\\n            \\n            If Finished is True, Just reply with one word --> Finished.\\n            FINISHED:  False')\n",
            "content='' additional_kwargs={} response_metadata={'prompt_feedback': {'block_reason': 0, 'safety_ratings': []}, 'finish_reason': 'STOP', 'model_name': 'gemini-2.0-flash', 'safety_ratings': []} id='run--1e525e75-2a4d-4aa4-bc51-e8509f6b71ce-0' usage_metadata={'input_tokens': 615, 'output_tokens': 0, 'total_tokens': 615, 'input_token_details': {'cache_read': 0}}\n",
            "content='*   The code is well-structured with functions for different tasks (choosing a word, displaying the word, and running the game).\\n*   Input validation is present to ensure the user enters a single letter.\\n*   The game logic is clear and easy to follow.\\n*   The code provides feedback to the user on their guesses and remaining attempts.\\n*   The game ends appropriately when the user guesses the word or runs out of attempts.\\n\\nRecommendations:\\n\\n*   Consider adding a visual representation of the hangman figure (e.g., using ASCII art) to enhance the user experience.\\n*   You could expand the word list to include more words or allow the user to provide their own word list.\\n*   Add difficulty levels by adjusting the number of allowed attempts or the length of the words.\\n*   Implement a replay option to allow the user to play again without restarting the program.\\n*   Consider using a more descriptive variable name than `displayed_word` (e.g., `current_display`).\\n*   Add docstrings to the `hangman` function to describe its overall purpose.\\n*   Consider using f-strings for more concise string formatting.\\n*   The `if __name__ == \"__main__\":` block is good practice.\\n\\nFINISHED: True' additional_kwargs={} response_metadata={'prompt_feedback': {'block_reason': 0, 'safety_ratings': []}, 'finish_reason': 'STOP', 'model_name': 'gemini-2.0-flash', 'safety_ratings': []} id='run--3fc095fa-f895-4feb-96ea-71b4af602254-0' usage_metadata={'input_tokens': 615, 'output_tokens': 269, 'total_tokens': 884, 'input_token_details': {'cache_read': 0}}\n",
            "('system', 'You are an expert python programmer. \\n            You are tasked to critique the given python code.\\n            Provide your critiques in bullet points.\\n            Provide recommendation to improve the quality of the code.\\n            Do not provide the code. Only critique and recommendations.\\n            \\n            If Finished is True, Just reply with one word --> Finished.\\n            FINISHED:  False')\n",
            "content='' additional_kwargs={} response_metadata={'prompt_feedback': {'block_reason': 0, 'safety_ratings': []}, 'finish_reason': 'STOP', 'model_name': 'gemini-2.0-flash', 'safety_ratings': []} id='run--b4a70b27-4875-4586-98d7-a5b0d6ddee0a-0' usage_metadata={'input_tokens': 960, 'output_tokens': 0, 'total_tokens': 960, 'input_token_details': {'cache_read': 0}}\n",
            "content='```python\\nimport random\\n\\ndef choose_word():\\n    \"\"\"Chooses a random word from a predefined list.\"\"\"\\n    words = [\"python\", \"hangman\", \"programming\", \"computer\", \"science\", \"keyboard\", \"algorithm\"]\\n    return random.choice(words)\\n\\ndef display_word(word, guessed_letters):\\n    \"\"\"Displays the word with correctly guessed letters and underscores for unguessed letters.\"\"\"\\n    current_display = \"\"\\n    for letter in word:\\n        if letter in guessed_letters:\\n            current_display += letter\\n        else:\\n            current_display += \"_\"\\n    return current_display\\n\\ndef display_hangman(attempts_left):\\n    \"\"\"Displays the hangman figure based on the number of attempts left.\"\"\"\\n    stages = [\\n        \"\"\"\\n           --------\\n           |      |\\n           |      O\\n           |     \\\\\\\\|/\\n           |      |\\n           |     / \\\\\\\\\\n           -\\n        \"\"\",\\n        \"\"\"\\n           --------\\n           |      |\\n           |      O\\n           |     \\\\\\\\|/\\n           |      |\\n           |     / \\n           -\\n        \"\"\",\\n        \"\"\"\\n           --------\\n           |      |\\n           |      O\\n           |     \\\\\\\\|/\\n           |      |\\n           |      \\n           -\\n        \"\"\",\\n        \"\"\"\\n           --------\\n           |      |\\n           |      O\\n           |     \\\\\\\\|\\n           |      |\\n           |      \\n           -\\n        \"\"\",\\n        \"\"\"\\n           --------\\n           |      |\\n           |      O\\n           |      |\\n           |      |\\n           |      \\n           -\\n        \"\"\",\\n        \"\"\"\\n           --------\\n           |      |\\n           |      O\\n           |      \\n           |      \\n           |      \\n           -\\n        \"\"\",\\n        \"\"\"\\n           --------\\n           |      |\\n           |      \\n           |      \\n           |      \\n           |      \\n           -\\n        \"\"\",\\n    ]\\n    return stages[6 - attempts_left]\\n\\n\\ndef hangman():\\n    \"\"\"Plays a game of hangman.\"\"\"\\n    word_to_guess = choose_word()\\n    guessed_letters = set()\\n    attempts_left = 6\\n    \\n    print(\"Welcome to Hangman!\")\\n    print(display_hangman(attempts_left))\\n    print(display_word(word_to_guess, guessed_letters))\\n    print(f\"You have {attempts_left} attempts left.\")\\n\\n    while attempts_left > 0:\\n        guess = input(\"Guess a letter: \").lower()\\n\\n        if not guess.isalpha() or len(guess) != 1:\\n            print(\"Invalid input. Please enter a single letter.\")\\n            continue\\n\\n        if guess in guessed_letters:\\n            print(\"You already guessed that letter.\")\\n            continue\\n\\n        guessed_letters.add(guess)\\n\\n        if guess in word_to_guess:\\n            print(\"Correct guess!\")\\n            current_display = display_word(word_to_guess, guessed_letters)\\n            print(current_display)\\n\\n            if \"_\" not in current_display:\\n                print(\"Congratulations! You guessed the word:\", word_to_guess)\\n                return\\n        else:\\n            attempts_left -= 1\\n            print(\"Incorrect guess.\")\\n            print(display_hangman(attempts_left))\\n            print(display_word(word_to_guess, guessed_letters))\\n            print(f\"You have {attempts_left} attempts left.\")\\n\\n    print(\"You ran out of attempts. The word was:\", word_to_guess)\\n\\n    play_again = input(\"Do you want to play again? (yes/no): \").lower()\\n    if play_again == \"yes\":\\n        hangman()\\n\\nif __name__ == \"__main__\":\\n    hangman()\\n```' additional_kwargs={} response_metadata={'prompt_feedback': {'block_reason': 0, 'safety_ratings': []}, 'finish_reason': 'STOP', 'model_name': 'gemini-2.0-flash', 'safety_ratings': []} id='run--1becf926-d378-4011-b106-c7d3ecabac0d-0' usage_metadata={'input_tokens': 960, 'output_tokens': 844, 'total_tokens': 1804, 'input_token_details': {'cache_read': 0}}\n",
            "('system', 'You are an expert python programmer. \\n            You are tasked to critique the given python code.\\n            Provide your critiques in bullet points.\\n            Provide recommendation to improve the quality of the code.\\n            Do not provide the code. Only critique and recommendations.\\n            \\n            If Finished is True, Just reply with one word --> Finished.\\n            FINISHED:  True')\n",
            "content='' additional_kwargs={} response_metadata={'prompt_feedback': {'block_reason': 0, 'safety_ratings': []}, 'finish_reason': 'STOP', 'model_name': 'gemini-2.0-flash', 'safety_ratings': []} id='run--cf2f0c62-7902-426b-8aa7-bd2583c26e94-0' usage_metadata={'input_tokens': 1881, 'output_tokens': 0, 'total_tokens': 1881, 'input_token_details': {'cache_read': 0}}\n"
          ]
        }
      ]
    },
    {
      "cell_type": "code",
      "source": [
        "Markdown(response[-3].content)"
      ],
      "metadata": {
        "colab": {
          "base_uri": "https://localhost:8080/",
          "height": 1000
        },
        "id": "3LP4vFh5Wg_Q",
        "outputId": "35364166-5982-4232-d5a1-cd3913881bb0"
      },
      "execution_count": 30,
      "outputs": [
        {
          "output_type": "execute_result",
          "data": {
            "text/plain": [
              "<IPython.core.display.Markdown object>"
            ],
            "text/markdown": "```python\nimport random\n\ndef choose_word():\n    \"\"\"Chooses a random word from a predefined list.\"\"\"\n    words = [\"python\", \"hangman\", \"programming\", \"computer\", \"science\", \"keyboard\", \"algorithm\"]\n    return random.choice(words)\n\ndef display_word(word, guessed_letters):\n    \"\"\"Displays the word with correctly guessed letters and underscores for unguessed letters.\"\"\"\n    current_display = \"\"\n    for letter in word:\n        if letter in guessed_letters:\n            current_display += letter\n        else:\n            current_display += \"_\"\n    return current_display\n\ndef display_hangman(attempts_left):\n    \"\"\"Displays the hangman figure based on the number of attempts left.\"\"\"\n    stages = [\n        \"\"\"\n           --------\n           |      |\n           |      O\n           |     \\\\|/\n           |      |\n           |     / \\\\\n           -\n        \"\"\",\n        \"\"\"\n           --------\n           |      |\n           |      O\n           |     \\\\|/\n           |      |\n           |     / \n           -\n        \"\"\",\n        \"\"\"\n           --------\n           |      |\n           |      O\n           |     \\\\|/\n           |      |\n           |      \n           -\n        \"\"\",\n        \"\"\"\n           --------\n           |      |\n           |      O\n           |     \\\\|\n           |      |\n           |      \n           -\n        \"\"\",\n        \"\"\"\n           --------\n           |      |\n           |      O\n           |      |\n           |      |\n           |      \n           -\n        \"\"\",\n        \"\"\"\n           --------\n           |      |\n           |      O\n           |      \n           |      \n           |      \n           -\n        \"\"\",\n        \"\"\"\n           --------\n           |      |\n           |      \n           |      \n           |      \n           |      \n           -\n        \"\"\",\n    ]\n    return stages[6 - attempts_left]\n\n\ndef hangman():\n    \"\"\"Plays a game of hangman.\"\"\"\n    word_to_guess = choose_word()\n    guessed_letters = set()\n    attempts_left = 6\n    \n    print(\"Welcome to Hangman!\")\n    print(display_hangman(attempts_left))\n    print(display_word(word_to_guess, guessed_letters))\n    print(f\"You have {attempts_left} attempts left.\")\n\n    while attempts_left > 0:\n        guess = input(\"Guess a letter: \").lower()\n\n        if not guess.isalpha() or len(guess) != 1:\n            print(\"Invalid input. Please enter a single letter.\")\n            continue\n\n        if guess in guessed_letters:\n            print(\"You already guessed that letter.\")\n            continue\n\n        guessed_letters.add(guess)\n\n        if guess in word_to_guess:\n            print(\"Correct guess!\")\n            current_display = display_word(word_to_guess, guessed_letters)\n            print(current_display)\n\n            if \"_\" not in current_display:\n                print(\"Congratulations! You guessed the word:\", word_to_guess)\n                return\n        else:\n            attempts_left -= 1\n            print(\"Incorrect guess.\")\n            print(display_hangman(attempts_left))\n            print(display_word(word_to_guess, guessed_letters))\n            print(f\"You have {attempts_left} attempts left.\")\n\n    print(\"You ran out of attempts. The word was:\", word_to_guess)\n\n    play_again = input(\"Do you want to play again? (yes/no): \").lower()\n    if play_again == \"yes\":\n        hangman()\n\nif __name__ == \"__main__\":\n    hangman()\n```"
          },
          "metadata": {},
          "execution_count": 30
        }
      ]
    },
    {
      "cell_type": "code",
      "source": [],
      "metadata": {
        "id": "JOb4bw2IXnp9"
      },
      "execution_count": 30,
      "outputs": []
    }
  ]
}