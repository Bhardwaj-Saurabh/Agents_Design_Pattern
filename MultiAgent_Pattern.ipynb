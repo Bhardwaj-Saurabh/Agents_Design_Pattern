{
  "nbformat": 4,
  "nbformat_minor": 0,
  "metadata": {
    "colab": {
      "provenance": [],
      "authorship_tag": "ABX9TyO9YIeV26aeEpQNDHJWGh16",
      "include_colab_link": true
    },
    "kernelspec": {
      "name": "python3",
      "display_name": "Python 3"
    },
    "language_info": {
      "name": "python"
    }
  },
  "cells": [
    {
      "cell_type": "markdown",
      "metadata": {
        "id": "view-in-github",
        "colab_type": "text"
      },
      "source": [
        "<a href=\"https://colab.research.google.com/github/Bhardwaj-Saurabh/Agents_Design_Pattern/blob/master/MultiAgent_Pattern.ipynb\" target=\"_parent\"><img src=\"https://colab.research.google.com/assets/colab-badge.svg\" alt=\"Open In Colab\"/></a>"
      ]
    },
    {
      "cell_type": "code",
      "execution_count": 63,
      "metadata": {
        "collapsed": true,
        "id": "gvouyHgaXZ7l"
      },
      "outputs": [],
      "source": [
        "# !pip install openai"
      ]
    },
    {
      "cell_type": "code",
      "source": [
        "import os\n",
        "from google.colab import userdata\n",
        "\n",
        "os.environ['OPENAI_API_KEY'] = userdata.get('OPENAI_API_KEY')"
      ],
      "metadata": {
        "id": "EVJsPsRjbtFV"
      },
      "execution_count": 3,
      "outputs": []
    },
    {
      "cell_type": "code",
      "source": [
        "from openai import OpenAI"
      ],
      "metadata": {
        "id": "FNehyq79zdbA"
      },
      "execution_count": 10,
      "outputs": []
    },
    {
      "cell_type": "code",
      "source": [
        "client = OpenAI()"
      ],
      "metadata": {
        "id": "pj9VRQPSnXJa"
      },
      "execution_count": 15,
      "outputs": []
    },
    {
      "cell_type": "code",
      "source": [
        "EASSY_SYSTEM_PROMPT = \"You are an eassy writer which writes essay in british english.\""
      ],
      "metadata": {
        "id": "0NmPMQznRxbu"
      },
      "execution_count": 27,
      "outputs": []
    },
    {
      "cell_type": "code",
      "source": [
        "TRANSLATOR_SYSTEM_PROMPT = \"You are an english to hindi translator. You are given the english essay below. \\n %s. \\n.Translate it to Hindi language\""
      ],
      "metadata": {
        "id": "CEPNHBtxSKU4"
      },
      "execution_count": 22,
      "outputs": []
    },
    {
      "cell_type": "code",
      "source": [
        "def agent(system_prompt, user_query):\n",
        "    response = client.chat.completions.create(\n",
        "            model=\"gpt-4o-mini\",\n",
        "            messages=[\n",
        "                {\"role\": \"system\", \"content\": system_prompt},\n",
        "                {\"role\": \"user\", \"content\": user_query}\n",
        "            ]\n",
        "        )\n",
        "\n",
        "    return response.choices[0].message.content"
      ],
      "metadata": {
        "id": "gBIJdIbacH8M"
      },
      "execution_count": 54,
      "outputs": []
    },
    {
      "cell_type": "code",
      "source": [
        "def multiagent_pipeline(user_query: str):\n",
        "\n",
        "    state_dict = dict()\n",
        "\n",
        "    essay = agent(EASSY_SYSTEM_PROMPT, user_query)\n",
        "    state_dict['english_essay'] = essay\n",
        "\n",
        "    if state_dict['english_essay']:\n",
        "        translation = agent(TRANSLATOR_SYSTEM_PROMPT, state_dict['english_essay'])\n",
        "        state_dict['hindi_essay'] = translation\n",
        "\n",
        "        if state_dict['hindi_essay']:\n",
        "            with open('hindi_essay.txt', 'w+') as f:\n",
        "                f.write(state_dict['hindi_essay'])\n",
        "        else:\n",
        "            print('error translating english essay')\n",
        "    else:\n",
        "        print('error while generating english essay')\n",
        "\n",
        "    return state_dict"
      ],
      "metadata": {
        "id": "f-l9tfGuakj-"
      },
      "execution_count": 57,
      "outputs": []
    },
    {
      "cell_type": "code",
      "source": [
        "state_dict = multiagent_pipeline('write an essay about python snake.')"
      ],
      "metadata": {
        "id": "6Ip9jQk3akhn"
      },
      "execution_count": 58,
      "outputs": []
    },
    {
      "cell_type": "code",
      "source": [
        "state_dict['english_essay']"
      ],
      "metadata": {
        "colab": {
          "base_uri": "https://localhost:8080/",
          "height": 122
        },
        "id": "PGc7URkRdl8c",
        "outputId": "1b46fb64-02ea-4e45-aa9f-b145d20d21bd"
      },
      "execution_count": 59,
      "outputs": [
        {
          "output_type": "execute_result",
          "data": {
            "text/plain": [
              "'**The Python Snake: A Fascinating Creature of the Serpentidae Family**\\n\\nThe Python, a member of the Serpentidae family, is a remarkable creature that has captured the fascination of many, both in the wild and in captivity. Known for its impressive size, unique adaptability, and distinct behaviours, the python has become an iconic symbol of the diverse reptilian world. This essay aims to delve into the characteristics, habitat, diet, and conservation status of pythons, shedding light on why they are both revered and misunderstood in various cultures.\\n\\n**Physical Characteristics and Variations**\\n\\nPythons are non-venomous constrictors that exhibit considerable variation in size and colour, depending on the species. The most common species include the reticulated python, green python, and ball python, each possessing unique traits. For instance, the reticulated python is one of the longest snakes in the world, stretching up to 10 metres in length. In contrast, the ball python, typically found in parts of Africa, is much smaller, usually averaging around 1 to 1.5 metres.\\n\\nTheir scales are often adorned with intricate patterns and vibrant colours, which play a crucial role in camouflage, enabling them to blend seamlessly into their surroundings. This feature is particularly beneficial during hunting or evading predators. Furthermore, pythons possess highly developed sensory organs, allowing them to detect heat, which is instrumental when locating prey.\\n\\n**Habitat and Distribution**\\n\\nPythons are predominantly found in regions where moisture and warmth prevail, such as tropical and subtropical forests, savannas, and grasslands. They are native to parts of Africa, Asia, and Australia, demonstrating a remarkable ability to adapt to diverse environments. Some species, like the Burmese python, have even become invasive in regions outside their natural habitat, such as the Florida Everglades, raising concerns about local ecosystems and biodiversity.\\n\\nTheir habitats are often situated near water sources, as pythons are excellent swimmers. They use water not only for hydration but also for hunting aquatic prey, demonstrating their versatility as predators. Their arboreal nature allows them to climb trees with ease, further expanding their hunting grounds and providing shelter from terrestrial threats.\\n\\n**Diet and Hunting Techniques**\\n\\nPythons are carnivorous and have a varied diet that primarily consists of birds, rodents, and other small mammals. Their hunting technique is quite fascinating: they strike swiftly and ensnare their prey using powerful coils, suffocating them before consumption. This constriction method not only immobilises the prey but also ensures that it cannot escape.\\n\\nOnce the prey is subdued, pythons can unhinge their jaws to consume animals larger than themselves, a peculiar adaptation that allows for the ingestion of sizeable prey items whole. After a significant meal, a python may not need to eat again for several weeks, given their slow metabolism and ability to thrive on infrequent but substantial meals.\\n\\n**Cultural Significance and Misunderstanding**\\n\\nThroughout history, pythons have held a significant place in various cultures. In many African and Asian societies, they are regarded as symbols of power and mystique. They appear in numerous folklore tales and spiritual practices, often associated with creation myths or revered as sacred creatures. However, despite this cultural significance, pythons are often misunderstood and feared due to their size and predatory nature.\\n\\nThis fear has led to misconceptions about their behaviour, resulting in unnecessary killings and habitat destruction. Education and awareness have become essential in dispelling myths surrounding pythons, encouraging coexistence rather than fear.\\n\\n**Conservation Status and Efforts**\\n\\nMany species of pythons face threats ranging from habitat destruction to poaching for their skins and the exotic pet trade. The International Union for Conservation of Nature (IUCN) has listed several python species as vulnerable or endangered, highlighting the urgent need for conservation efforts. \\n\\nConservation organisations worldwide are working tirelessly to protect these magnificent reptiles by promoting habitat preservation, enforcing legal protections, and fostering a greater understanding and appreciation of their ecological roles.\\n\\n**Conclusion**\\n\\nThe python snake is much more than a mere predator; it is a vital component of its ecosystem and a creature steeped in cultural significance. By understanding their characteristics, behaviours, and the challenges they face, we can foster a greater appreciation for these remarkable reptiles. As we strive to protect their habitats and raise awareness about their existence, we can ensure that future generations will also be able to admire and respect the enigmatic python.'"
            ],
            "application/vnd.google.colaboratory.intrinsic+json": {
              "type": "string"
            }
          },
          "metadata": {},
          "execution_count": 59
        }
      ]
    },
    {
      "cell_type": "code",
      "source": [
        "state_dict['hindi_essay']"
      ],
      "metadata": {
        "colab": {
          "base_uri": "https://localhost:8080/",
          "height": 105
        },
        "id": "gCcljNk2dl5l",
        "outputId": "7660848c-c2c7-47a8-990c-f09865e7df98"
      },
      "execution_count": 60,
      "outputs": [
        {
          "output_type": "execute_result",
          "data": {
            "text/plain": [
              "'**Python सांप: सर्पेंटिडे परिवार का एक रोचक प्राणी**\\n\\nPython, सर्पेंटिडे परिवार का एक सदस्य, एक अद्वितीय प्राणी है जिसने जंगली और कैद दोनों में कई लोगों का ध्यान आकर्षित किया है। अपने प्रभावशाली आकार, अद्वितीय अनुकूलनशीलता और विशिष्ट व्यवहार के लिए जाने जाने वाला, पायथन विविध चिड़ियाघर के प्रतीक के रूप में जाना जाता है। यह निबंध पायथनों की विशेषताओं, आवास, आहार और संरक्षण स्थिति में गहराई से जाने का प्रयास करता है, यह स्पष्ट करते हुए कि वे विभिन्न संस्कृतियों में क्यों पूजे और गलत समझे जाते हैं।\\n\\n**शारीरिक विशेषताएं और भिन्नताएं**\\n\\nपायथन गैर-विषैला संकुचन करते हैं जो प्रजातियों के आधार पर आकार और रंग में महत्वपूर्ण भिन्नता प्रदर्शित करते हैं। सबसे सामान्य प्रजातियों में रेटिकुलेटेड पायथन, हरे पायथन और बॉल पायथन शामिल हैं, प्रत्येक में विशेष लक्षण होते हैं। उदाहरण के लिए, रेटिकुलेटेड पायथन दुनिया के सबसे लंबे सांपों में से एक है, जो 10 मीटर तक बढ़ सकता है। इसके विपरीत, बॉल पायथन, जो आमतौर पर अफ्रीका के कुछ भागों में पाया जाता है, काफी छोटा होता है, आमतौर पर 1 से 1.5 मीटर के बीच होता है।\\n\\nउनकी त्वचा अक्सर जटिल पैटर्न और जीवंत रंगों से सजी होती है, जो छलावरण में महत्वपूर्ण भूमिका निभाती है, जिससे वे अपने परिवेश में बिना किसी बाधा के मिल जाते हैं। यह विशेषता विशेष रूप से शिकार करते समय या शिकारियों से बचने में फायदेमंद होती है। इसके अलावा, पायथन में अत्यधिक विकसित संवेदी अंग होते हैं, जो उन्हें गर्मी का पता लगाने में सक्षम बनाते हैं, जो शिकार को खोजने में सहायक होता है।\\n\\n**आवास और वितरण**\\n\\nपायथन मुख्य रूप से उन क्षेत्रों में पाए जाते हैं जहाँ नमी और गर्मी प्रबल होती है, जैसे उष्णकटिबंधीय और उपोष्णकटिबंधीय जंगल, सवाना, और घास के मैदान। वे अफ्रीका, एशिया और ऑस्ट्रेलिया के हिस्सों का मूल निवासी हैं, और विभिन्न पर्यावरणों के प्रति अनुकूलन की अद्भुत क्षमता प्रदर्शित करते हैं। कुछ प्रजातियाँ, जैसे बर्मीज़ पायथन, अपने प्राकृतिक आवासों के बाहर क्षेत्रों में नष्ट हो गई हैं, जैसे फ्लोरिडा एवरग्लेड्स, जिससे स्थानीय पारिस्थितिकी तंत्र और जैव विविधता के बारे में चिंताएँ बढ़ रही हैं।\\n\\nउनके आवास अक्सर जल स्रोतों के निकट होते हैं, क्योंकि पायथन उत्कृष्ट तैराक होते हैं। वे न केवल जल का उपयोग जलयोजन के लिए करते हैं, बल्कि जल में शिकार करने के लिए भी, जिससे वे शिकारियों के रूप में अपनी बहुपरकारिता को प्रदर्शित करते हैं। उनकी पेड़ पर चढ़ने की स्वभाव उन्हें आसानी से पेड़ों पर चढ़ने की अनुमति देती है, जिससे उनके शिकार का क्षेत्र बढ़ता है और भूमि पर खतरों से आश्रय मिलता है।\\n\\n**आहार और शिकार तकनीक**\\n\\nपायथन मांसाहारी होते हैं और उनके आहार में मुख्यतः पक्षी, चूहे, और अन्य छोटे स्तनधारी शामिल होते हैं। उनका शिकार करने की तकनीक बहुत दिलचस्प होती है: वे तेजी से हमला करते हैं और शक्तिशाली कुंडलों का उपयोग करके अपने शिकार को फंसाते हैं, उन्हें खाने से पहले घुटने के लिए मजबूर करते हैं। यह संकुचन विधि न केवल शिकार को स्थिर करती है, बल्कि यह भी सुनिश्चित करती है कि वह भाग नहीं सके।\\n\\nएक बार जब शिकार को नियंत्रित किया जाता है, तो पायथन अपने जौ को खोल सकते हैं जिससे वे अपने से बड़े जानवरों का सेवन कर सकें, यह एक अद्वितीय अनुकूलन है जो बड़े शिकार वस्तुएं पूरे के पूरे निगलने की अनुमति देता है। एक महत्वपूर्ण भोजन के बाद, एक पायथन को फिर से कई सप्ताहों तक खाने की आवश्यकता नहीं हो सकती है, उनके धीमे चयापचय और बार-बार लेकिन महत्वपूर्ण भोजन पर जीवित रहने की क्षमता के कारण।\\n\\n**संस्कृतिक महत्व और गलतफहमियां**\\n\\nइतिहास के दौरान, पायथन विभिन्न संस्कृतियों में एक महत्वपूर्ण स्थान रखता है। कई अफ्रीकी और एशियाई समाजों में, उन्हें शक्ति और रहस्य के प्रतीक के रूप में देखा जाता है। वे कई लोककथाओं और आध्यात्मिक प्रथाओं में प्रकट होते हैं, अक्सर सृजन मिथकों के साथ जुड़े होते हैं या पवित्र जीवों के रूप में पूजे जाते हैं। हालाँकि, इस सांस्कृतिक महत्व के बावजूद, पायथन अक्सर उनके आकार और शिकार करने की प्रवृत्ति के कारण गलत समझे और डरते हैं।\\n\\nइस डर ने उनके व्यवहार के बारे में गलत धारणाओं को जन्म दिया है, जिसके परिणामस्वरूप अनावश्यक हत्या और आवास का विनाश हुआ है। पायथनों के चारों ओर के मिथकों को दूर करने में शिक्षा और जागरूकता आवश्यक हो गई है, सह-अस्तित्व को प्रोत्साहित करना चाहिए।\\n\\n**संरक्षण स्थिति और प्रयास**\\n\\nपायथन की कई प्रजातियाँ आवास विनाश से लेकर उनकी त्वचा के लिए शिकार और विदेशी पालतू व्यापार तक खतरों का सामना कर रही हैं। अंतर्राष्ट्रीय प्रकृति संरक्षण संघ (IUCN) ने कई पायथन प्रजातियों को कमजोर या संकटग्रस्त के रूप में सूचीबद्ध किया है, जो संरक्षण प्रयासों की तात्कालिक आवश्यकता को उजागर करता है।\\n\\nदुनिया भर में संरक्षण संगठन इन अद्भुत सरीसृपों की रक्षा के लिए कठिनाई से काम कर रहे हैं, आवास संरक्षण को बढ़ावा देने, कानूनी संरक्षण लागू करने, और उनके पारिस्थितिकीय भूमिकाओं की बेहतर समझ और प्रशंसा को बढ़ावा देने में।\\n\\n**निष्कर्ष**\\n\\nपायथन सांप केवल एक शिकार करने वाला प्राणी नहीं है; यह अपने पारिस्थितिकी तंत्र का एक महत्वपूर्ण घटक है और सांस्कृतिक महत्व में डूबा हुआ एक जीव है। उनकी विशेषताओं, व्यवहार और उनके सामने आने वाली चुनौतियों को समझकर, हम इन अद्भुत सरीसृपों के प्रति एक बड़े सराहना की भावना को जन्म दे सकते हैं। जब हम उनके आवासों की रक्षा करने और उनकी उपस्थिति के बारे में जागरूकता बढ़ाने के लिए प्रयास करते हैं, तो हम सुनिश्चित कर सकते हैं कि भविष्य की पीढ़ियाँ भी रहस्यमय पायथन की प्रशंसा और सम्मान कर सकें।'"
            ],
            "application/vnd.google.colaboratory.intrinsic+json": {
              "type": "string"
            }
          },
          "metadata": {},
          "execution_count": 60
        }
      ]
    },
    {
      "cell_type": "code",
      "source": [],
      "metadata": {
        "id": "z2cqKTQAdl3Z"
      },
      "execution_count": null,
      "outputs": []
    },
    {
      "cell_type": "code",
      "source": [],
      "metadata": {
        "id": "dGxpqWFvdl1J"
      },
      "execution_count": null,
      "outputs": []
    },
    {
      "cell_type": "code",
      "source": [],
      "metadata": {
        "id": "2Oy7b6CAdlym"
      },
      "execution_count": null,
      "outputs": []
    },
    {
      "cell_type": "code",
      "source": [],
      "metadata": {
        "id": "ivgh3DuNdlv6"
      },
      "execution_count": null,
      "outputs": []
    },
    {
      "cell_type": "code",
      "source": [
        "class OpenAIAgentChained:\n",
        "    def __init__(self, func):\n",
        "        self.func = func\n",
        "    def __call__(self, input_text):\n",
        "        return self.func(input_text)\n",
        "    # Add __rshift__ method to allow chaining OpenAIAgentChained objects\n",
        "    def __rshift__(self, other_agent):\n",
        "        def chained_function(input_text):\n",
        "            # Call the current chained function first\n",
        "            intermediate_result = self(input_text)\n",
        "            # Then call the next agent with the intermediate result\n",
        "            return other_agent(intermediate_result)\n",
        "        # Return a new OpenAIAgentChained object with the combined function\n",
        "        return OpenAIAgentChained(chained_function)\n",
        "\n",
        "class OpenAIAgent:\n",
        "    def __init__(self, prompt_template):\n",
        "        self.prompt_template = prompt_template\n",
        "        self.client = OpenAI()\n",
        "\n",
        "    def __call__(self, input_text):\n",
        "        import openai\n",
        "        response = client.chat.completions.create(\n",
        "            model=\"gpt-4\",\n",
        "            messages=[\n",
        "                {\"role\": \"system\", \"content\": self.prompt_template},\n",
        "                {\"role\": \"user\", \"content\": input_text}\n",
        "            ]\n",
        "        )\n",
        "        return response.choices[0].message.content\n",
        "\n",
        "    def __rshift__(self, other_agent):\n",
        "        def chained_function(input_text):\n",
        "            result = self(input_text)\n",
        "            return other_agent(result)\n",
        "        return OpenAIAgentChained(chained_function)\n"
      ],
      "metadata": {
        "id": "DJxQE2GbTOpN"
      },
      "execution_count": 39,
      "outputs": []
    },
    {
      "cell_type": "code",
      "source": [
        "from pathlib import Path\n",
        "\n",
        "class SaveToFileAgent:\n",
        "    def __init__(self, filepath: str):\n",
        "        self.filepath = Path(filepath)\n",
        "\n",
        "    def __call__(self, content: str) -> str:\n",
        "        self.filepath.write_text(content, encoding=\"utf-8\")\n",
        "        return f\"✅ Output saved to {self.filepath.resolve()}\"\n",
        "\n",
        "    def __rshift__(self, other_agent):\n",
        "        def chained_func(user_input: str):\n",
        "            output = self(user_input)\n",
        "            return other_agent(output)\n",
        "        return OpenAIAgentChained(chained_func)"
      ],
      "metadata": {
        "id": "LOOCSbhlXTUS"
      },
      "execution_count": 40,
      "outputs": []
    },
    {
      "cell_type": "code",
      "source": [
        "eassy_write = OpenAIAgent(EASSY_SYSTEM_PROMPT)\n",
        "translator = OpenAIAgent(TRANSLATOR_SYSTEM_PROMPT)\n",
        "savefileagent = SaveToFileAgent('/content/eassy.txt')\n",
        "\n",
        "\n",
        "pipeline = eassy_write >> translator >> savefileagent"
      ],
      "metadata": {
        "id": "pT3Z9vonUeD2"
      },
      "execution_count": 41,
      "outputs": []
    },
    {
      "cell_type": "code",
      "source": [
        "result = pipeline('write an eassy about earth from its inception to human advancement with proper heading, subheading and pragraphs.')"
      ],
      "metadata": {
        "id": "SDPJGY3XWldS"
      },
      "execution_count": 42,
      "outputs": []
    },
    {
      "cell_type": "code",
      "source": [
        "from IPython.display import Markdown\n",
        "Markdown(result)"
      ],
      "metadata": {
        "colab": {
          "base_uri": "https://localhost:8080/",
          "height": 46
        },
        "id": "vGc0IvXrWyFK",
        "outputId": "dcaee3fc-be6e-48f7-9a54-ca9dd9c73fda"
      },
      "execution_count": 61,
      "outputs": [
        {
          "output_type": "execute_result",
          "data": {
            "text/plain": [
              "<IPython.core.display.Markdown object>"
            ],
            "text/markdown": "✅ Output saved to /content/eassy.txt"
          },
          "metadata": {},
          "execution_count": 61
        }
      ]
    },
    {
      "cell_type": "code",
      "source": [],
      "metadata": {
        "id": "GI0KbW-GWzFV"
      },
      "execution_count": null,
      "outputs": []
    }
  ]
}